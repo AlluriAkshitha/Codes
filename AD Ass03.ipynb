{
 "cells": [
  {
   "cell_type": "code",
   "execution_count": 1,
   "id": "adcc37a8",
   "metadata": {},
   "outputs": [
    {
     "name": "stdout",
     "output_type": "stream",
     "text": [
      "Enter marks in subject 1: 95\n",
      "Enter marks in subject 2: 91\n",
      "Enter marks in subject 3: 90\n",
      "Grade: A\n"
     ]
    }
   ],
   "source": [
    "# Taking input for marks in three subjects\n",
    "marks1 = float(input(\"Enter marks in subject 1: \"))\n",
    "marks2 = float(input(\"Enter marks in subject 2: \"))\n",
    "marks3 = float(input(\"Enter marks in subject 3: \"))\n",
    "\n",
    "# Calculating the average marks\n",
    "average = (marks1 + marks2 + marks3) / 3\n",
    "\n",
    "# Assigning grade based on average\n",
    "if average >= 90:\n",
    "    print(\"Grade: A\")\n",
    "elif 80 <= average < 90:\n",
    "    print(\"Grade: B\")\n",
    "elif 70 <= average < 80:\n",
    "    print(\"Grade: C\")\n",
    "else:\n",
    "    print(\"Grade: Fail\")\n"
   ]
  },
  {
   "cell_type": "code",
   "execution_count": null,
   "id": "8f74d52e",
   "metadata": {},
   "outputs": [],
   "source": []
  }
 ],
 "metadata": {
  "kernelspec": {
   "display_name": "Python 3 (ipykernel)",
   "language": "python",
   "name": "python3"
  },
  "language_info": {
   "codemirror_mode": {
    "name": "ipython",
    "version": 3
   },
   "file_extension": ".py",
   "mimetype": "text/x-python",
   "name": "python",
   "nbconvert_exporter": "python",
   "pygments_lexer": "ipython3",
   "version": "3.11.5"
  }
 },
 "nbformat": 4,
 "nbformat_minor": 5
}
