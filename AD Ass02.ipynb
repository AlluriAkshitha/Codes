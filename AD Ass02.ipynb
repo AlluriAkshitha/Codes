{
 "cells": [
  {
   "cell_type": "code",
   "execution_count": 1,
   "id": "57ebcadb",
   "metadata": {},
   "outputs": [
    {
     "name": "stdout",
     "output_type": "stream",
     "text": [
      "First element of the list: 10\n",
      "Last element of the list: [1, 2, 3]\n",
      "Third element of the list: Hello\n",
      "Element at index 4 (sub-list): [1, 2, 3]\n",
      "First element of the tuple: 5\n",
      "Second element of the tuple: Python\n",
      "Last element of the tuple: [9, 8, 7]\n",
      "Element at index 4 (sub-list): [9, 8, 7]\n",
      "Name from the dictionary: Akshitha\n",
      "Age from the dictionary: 19\n",
      "City from the dictionary: Hyderabad\n",
      "Scores from the dictionary: [95, 90, 91]\n"
     ]
    }
   ],
   "source": [
    "# List creation with 5 elements\n",
    "my_list = [10, 20.5, \"Hello\", True, [1, 2, 3]]\n",
    "\n",
    "# Accessing elements in the list by index\n",
    "print(f\"First element of the list: {my_list[0]}\")\n",
    "print(f\"Last element of the list: {my_list[-1]}\")\n",
    "print(f\"Third element of the list: {my_list[2]}\")\n",
    "print(f\"Element at index 4 (sub-list): {my_list[4]}\")\n",
    "\n",
    "# Tuple creation with 5 elements\n",
    "my_tuple = (5, \"Python\", 3.14, False, [9, 8, 7])\n",
    "\n",
    "# Accessing elements in the tuple by index\n",
    "print(f\"First element of the tuple: {my_tuple[0]}\")\n",
    "print(f\"Second element of the tuple: {my_tuple[1]}\")\n",
    "print(f\"Last element of the tuple: {my_tuple[-1]}\")\n",
    "print(f\"Element at index 4 (sub-list): {my_tuple[4]}\")\n",
    "\n",
    "# Dictionary creation with 5 key-value pairs\n",
    "my_dict = {\n",
    "    \"name\": \"Akshitha\",\n",
    "    \"age\": 19,\n",
    "    \"city\": \"Hyderabad\",\n",
    "    \"is_student\": True,\n",
    "    \"scores\": [95, 90, 91]\n",
    "}\n",
    "\n",
    "# Accessing elements in the dictionary by keys (indexing is not supported for dictionaries)\n",
    "print(f\"Name from the dictionary: {my_dict['name']}\")\n",
    "print(f\"Age from the dictionary: {my_dict['age']}\")\n",
    "print(f\"City from the dictionary: {my_dict['city']}\")\n",
    "print(f\"Scores from the dictionary: {my_dict['scores']}\")\n"
   ]
  },
  {
   "cell_type": "code",
   "execution_count": null,
   "id": "339032e3",
   "metadata": {},
   "outputs": [],
   "source": []
  }
 ],
 "metadata": {
  "kernelspec": {
   "display_name": "Python 3 (ipykernel)",
   "language": "python",
   "name": "python3"
  },
  "language_info": {
   "codemirror_mode": {
    "name": "ipython",
    "version": 3
   },
   "file_extension": ".py",
   "mimetype": "text/x-python",
   "name": "python",
   "nbconvert_exporter": "python",
   "pygments_lexer": "ipython3",
   "version": "3.11.5"
  }
 },
 "nbformat": 4,
 "nbformat_minor": 5
}
