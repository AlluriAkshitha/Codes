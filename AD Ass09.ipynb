{
 "cells": [
  {
   "cell_type": "code",
   "execution_count": 2,
   "id": "34b022e6",
   "metadata": {},
   "outputs": [
    {
     "name": "stdout",
     "output_type": "stream",
     "text": [
      "First 5 rows of the dataset:\n",
      "         Date       Account_Type    Branch Transaction_Type  \\\n",
      "0  2023-01-19      Fixed Deposit   Central     Loan Payment   \n",
      "1  2023-01-16            Current    Uptown       Withdrawal   \n",
      "2  2023-01-10            Current    Uptown     Loan Payment   \n",
      "3  2023-01-18            Savings    Uptown     Loan Payment   \n",
      "4  2023-01-14  Recurring Deposit  Suburban     Loan Payment   \n",
      "\n",
      "   Transaction_Amount  Account_Balance  \n",
      "0              985.51          6839.59  \n",
      "1              641.43          8908.39  \n",
      "2             3363.85         12428.67  \n",
      "3             1914.60          5776.63  \n",
      "4             2788.57          4779.04  \n",
      "\n",
      "Basic statistics of the numerical columns:\n",
      "       Transaction_Amount  Account_Balance\n",
      "count           20.000000        20.000000\n",
      "mean          2705.829500      7967.766500\n",
      "std           1429.829787      2770.248821\n",
      "min            641.430000      2592.160000\n",
      "25%           1482.085000      6460.127500\n",
      "50%           2567.645000      7905.275000\n",
      "75%           4121.525000      9127.702500\n",
      "max           4683.640000     12836.510000\n",
      "\n",
      "Missing values in each column:\n",
      "Date                  0\n",
      "Account_Type          0\n",
      "Branch                0\n",
      "Transaction_Type      0\n",
      "Transaction_Amount    0\n",
      "Account_Balance       0\n",
      "dtype: int64\n"
     ]
    }
   ],
   "source": [
    "import pandas as pd\n",
    "\n",
    "# Load the banking_data.csv file\n",
    "df = pd.read_csv('Day_9_banking_data.csv')\n",
    "\n",
    "# 1. Display the first 5 rows of the dataset\n",
    "print(\"First 5 rows of the dataset:\")\n",
    "print(df.head())\n",
    "\n",
    "# 2. Generate basic statistics of the numerical columns (e.g., Transaction_Amount, Account_Balance)\n",
    "print(\"\\nBasic statistics of the numerical columns:\")\n",
    "print(df.describe())\n",
    "\n",
    "# 3. Check for missing values in the dataset\n",
    "print(\"\\nMissing values in each column:\")\n",
    "print(df.isnull().sum())\n"
   ]
  },
  {
   "cell_type": "code",
   "execution_count": null,
   "id": "1b6f4ff0",
   "metadata": {},
   "outputs": [],
   "source": []
  },
  {
   "cell_type": "code",
   "execution_count": null,
   "id": "14a5d54c",
   "metadata": {},
   "outputs": [],
   "source": []
  }
 ],
 "metadata": {
  "kernelspec": {
   "display_name": "Python 3 (ipykernel)",
   "language": "python",
   "name": "python3"
  },
  "language_info": {
   "codemirror_mode": {
    "name": "ipython",
    "version": 3
   },
   "file_extension": ".py",
   "mimetype": "text/x-python",
   "name": "python",
   "nbconvert_exporter": "python",
   "pygments_lexer": "ipython3",
   "version": "3.11.5"
  }
 },
 "nbformat": 4,
 "nbformat_minor": 5
}
