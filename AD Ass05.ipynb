{
 "cells": [
  {
   "cell_type": "code",
   "execution_count": 1,
   "id": "f8e52a0c",
   "metadata": {},
   "outputs": [
    {
     "name": "stdout",
     "output_type": "stream",
     "text": [
      "Enter a positive integer n: 6\n",
      "Numbers from 1 to n:\n",
      "1\n",
      "2\n",
      "3\n",
      "4\n",
      "5\n",
      "6\n",
      "The sum of all numbers from 1 to 6 is: 21\n"
     ]
    }
   ],
   "source": [
    "# Task 1\n",
    "# Ask the user to enter a positive integer n\n",
    "n = int(input(\"Enter a positive integer n: \"))\n",
    "\n",
    "# Using a for loop to print all numbers from 1 to n\n",
    "print(\"Numbers from 1 to n:\")\n",
    "for i in range(1, n+1):\n",
    "    print(i)\n",
    "\n",
    "# Using a while loop to calculate the sum of all numbers from 1 to n\n",
    "sum_of_numbers = 0\n",
    "i = 1\n",
    "while i <= n:\n",
    "    sum_of_numbers += i\n",
    "    i += 1\n",
    "\n",
    "# Print the result\n",
    "print(f\"The sum of all numbers from 1 to {n} is: {sum_of_numbers}\")\n"
   ]
  },
  {
   "cell_type": "code",
   "execution_count": 2,
   "id": "4822b098",
   "metadata": {},
   "outputs": [
    {
     "name": "stdout",
     "output_type": "stream",
     "text": [
      "Enter a positive integer: 47\n",
      "The square of 47 is: 2209\n"
     ]
    }
   ],
   "source": [
    "# Task 2\n",
    "# Define the function calculate_square\n",
    "def calculate_square(n):\n",
    "    return n * n\n",
    "\n",
    "# Ask the user to input a positive integer\n",
    "n = int(input(\"Enter a positive integer: \"))\n",
    "\n",
    "# Call the function and display the result\n",
    "result = calculate_square(n)\n",
    "print(f\"The square of {n} is: {result}\")\n"
   ]
  },
  {
   "cell_type": "code",
   "execution_count": null,
   "id": "4e435611",
   "metadata": {},
   "outputs": [],
   "source": []
  }
 ],
 "metadata": {
  "kernelspec": {
   "display_name": "Python 3 (ipykernel)",
   "language": "python",
   "name": "python3"
  },
  "language_info": {
   "codemirror_mode": {
    "name": "ipython",
    "version": 3
   },
   "file_extension": ".py",
   "mimetype": "text/x-python",
   "name": "python",
   "nbconvert_exporter": "python",
   "pygments_lexer": "ipython3",
   "version": "3.11.5"
  }
 },
 "nbformat": 4,
 "nbformat_minor": 5
}
