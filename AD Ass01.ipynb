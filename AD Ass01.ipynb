{
 "cells": [
  {
   "cell_type": "code",
   "execution_count": 1,
   "id": "fbc0e988",
   "metadata": {},
   "outputs": [
    {
     "name": "stdout",
     "output_type": "stream",
     "text": [
      "Value of int_var: 10, Type: <class 'int'>\n",
      "Value of float_var: 20.5, Type: <class 'float'>\n",
      "Value of string_var: Hello, Type: <class 'str'>\n",
      "Value of bool_var: True, Type: <class 'bool'>\n"
     ]
    }
   ],
   "source": [
    "# Declaring variables of different data types\n",
    "int_var = 10             # Integer\n",
    "float_var = 20.5         # Float\n",
    "string_var = \"Hello\"     # String\n",
    "bool_var = True          # Boolean\n",
    "\n",
    "# Printing each variable and its type\n",
    "print(f\"Value of int_var: {int_var}, Type: {type(int_var)}\")\n",
    "print(f\"Value of float_var: {float_var}, Type: {type(float_var)}\")\n",
    "print(f\"Value of string_var: {string_var}, Type: {type(string_var)}\")\n",
    "print(f\"Value of bool_var: {bool_var}, Type: {type(bool_var)}\")\n"
   ]
  },
  {
   "cell_type": "code",
   "execution_count": null,
   "id": "a0b7521a",
   "metadata": {},
   "outputs": [],
   "source": []
  }
 ],
 "metadata": {
  "kernelspec": {
   "display_name": "Python 3 (ipykernel)",
   "language": "python",
   "name": "python3"
  },
  "language_info": {
   "codemirror_mode": {
    "name": "ipython",
    "version": 3
   },
   "file_extension": ".py",
   "mimetype": "text/x-python",
   "name": "python",
   "nbconvert_exporter": "python",
   "pygments_lexer": "ipython3",
   "version": "3.11.5"
  }
 },
 "nbformat": 4,
 "nbformat_minor": 5
}
